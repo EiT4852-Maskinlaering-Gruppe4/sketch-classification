{
 "cells": [
  {
   "cell_type": "markdown",
   "id": "declared-blocking",
   "metadata": {},
   "source": [
    "# Sketch Classification"
   ]
  },
  {
   "cell_type": "markdown",
   "id": "attempted-breakfast",
   "metadata": {},
   "source": [
    "## Load dataset\n",
    "Loading dataset from local folder. The *load_sketches* returns shuffled data with labels, splitted for training and test."
   ]
  },
  {
   "cell_type": "code",
   "execution_count": 11,
   "id": "unknown-constitutional",
   "metadata": {},
   "outputs": [],
   "source": [
    "import load_sketches as ld"
   ]
  },
  {
   "cell_type": "code",
   "execution_count": 12,
   "id": "shared-knife",
   "metadata": {},
   "outputs": [],
   "source": [
    "train_set, test_set, train_labels, test_labels, label_strings = ld.load_sketches(0.9,\"sketches/\")"
   ]
  },
  {
   "cell_type": "markdown",
   "id": "aware-thread",
   "metadata": {},
   "source": [
    "## Set up model"
   ]
  },
  {
   "cell_type": "code",
   "execution_count": 16,
   "id": "compound-shaft",
   "metadata": {},
   "outputs": [],
   "source": [
    "from keras.models import Sequential\n",
    "from keras.layers import Dense, Flatten, Conv2D, MaxPooling2D, Dropout"
   ]
  },
  {
   "cell_type": "code",
   "execution_count": 17,
   "id": "centered-seminar",
   "metadata": {},
   "outputs": [],
   "source": [
    "model = Sequential()\n",
    "#model.add\n",
    "#model.add"
   ]
  },
  {
   "cell_type": "code",
   "execution_count": 18,
   "id": "seasonal-audit",
   "metadata": {},
   "outputs": [],
   "source": [
    "#model.compile()"
   ]
  },
  {
   "cell_type": "markdown",
   "id": "failing-attraction",
   "metadata": {},
   "source": [
    "## Train model"
   ]
  },
  {
   "cell_type": "code",
   "execution_count": null,
   "id": "regular-silver",
   "metadata": {},
   "outputs": [],
   "source": [
    "#model.fit()"
   ]
  }
 ],
 "metadata": {
  "kernelspec": {
   "display_name": "Python 3",
   "language": "python",
   "name": "python3"
  },
  "language_info": {
   "codemirror_mode": {
    "name": "ipython",
    "version": 3
   },
   "file_extension": ".py",
   "mimetype": "text/x-python",
   "name": "python",
   "nbconvert_exporter": "python",
   "pygments_lexer": "ipython3",
   "version": "3.8.5"
  }
 },
 "nbformat": 4,
 "nbformat_minor": 5
}
