{
 "cells": [
  {
   "cell_type": "markdown",
   "id": "declared-blocking",
   "metadata": {},
   "source": [
    "# Sketch Classification"
   ]
  },
  {
   "cell_type": "markdown",
   "id": "attempted-breakfast",
   "metadata": {},
   "source": [
    "## Load dataset\n",
    "Loading dataset from local folder. The *load_sketches* returns shuffled data with labels, splitted for training and test."
   ]
  },
  {
   "cell_type": "code",
   "execution_count": 13,
   "id": "unknown-constitutional",
   "metadata": {},
   "outputs": [],
   "source": [
    "import load_sketches as ld"
   ]
  },
  {
   "cell_type": "code",
   "execution_count": 14,
   "id": "shared-knife",
   "metadata": {},
   "outputs": [
    {
     "name": "stdout",
     "output_type": "stream",
     "text": [
      "Number of cat sketches:  123202\n",
      "Number of dog sketches:  152159\n",
      "Number of flower sketches:  144818\n",
      "Number of house sketches:  135420\n",
      "Number of sun sketches:  133781\n",
      "Total number of sketches:  689380\n",
      "Total number of labels:  689380\n"
     ]
    }
   ],
   "source": [
    "sketches, sketch_labels, label_strings = ld.load_sketches(\"sketches/\")"
   ]
  },
  {
   "cell_type": "markdown",
   "id": "aware-thread",
   "metadata": {},
   "source": [
    "## Set up model"
   ]
  },
  {
   "cell_type": "code",
   "execution_count": 16,
   "id": "compound-shaft",
   "metadata": {},
   "outputs": [],
   "source": [
    "from keras.models import Sequential\n",
    "from keras.layers import Dense, Flatten, Conv2D, MaxPooling2D, Dropout"
   ]
  },
  {
   "cell_type": "code",
   "execution_count": 17,
   "id": "centered-seminar",
   "metadata": {},
   "outputs": [],
   "source": [
    "model = Sequential()\n",
    "#model.add\n",
    "#model.add"
   ]
  },
  {
   "cell_type": "code",
   "execution_count": 18,
   "id": "seasonal-audit",
   "metadata": {},
   "outputs": [],
   "source": [
    "#model.compile()"
   ]
  },
  {
   "cell_type": "markdown",
   "id": "failing-attraction",
   "metadata": {},
   "source": [
    "## Train model"
   ]
  },
  {
   "cell_type": "code",
   "execution_count": null,
   "id": "regular-silver",
   "metadata": {},
   "outputs": [],
   "source": [
    "#model.fit()"
   ]
  }
 ],
 "metadata": {
  "kernelspec": {
   "display_name": "Python 3",
   "language": "python",
   "name": "python3"
  },
  "language_info": {
   "codemirror_mode": {
    "name": "ipython",
    "version": 3
   },
   "file_extension": ".py",
   "mimetype": "text/x-python",
   "name": "python",
   "nbconvert_exporter": "python",
   "pygments_lexer": "ipython3",
   "version": "3.8.5"
  }
 },
 "nbformat": 4,
 "nbformat_minor": 5
}
