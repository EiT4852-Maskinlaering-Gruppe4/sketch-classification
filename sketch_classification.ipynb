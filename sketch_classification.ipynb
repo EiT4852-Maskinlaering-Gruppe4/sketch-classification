{
 "cells": [
  {
   "cell_type": "markdown",
   "id": "declared-blocking",
   "metadata": {},
   "source": [
    "# Sketch Classification"
   ]
  },
  {
   "cell_type": "markdown",
   "id": "developing-suicide",
   "metadata": {},
   "source": [
    "The sketch data is fetched from \"Quick Draw!\", a project by Google. The dataset contain Numpy Bitmap files (.npy) and is downloaded from [Google Cloud Platform](https://console.cloud.google.com/storage/browser/quickdraw_dataset/full/numpy_bitmap). These sketches are already simplified (removed timestamp data, etc.) and scaled to 28x28 greyscale bitmap.\n",
    "\n",
    "In this notebook, the focus will be on five sketch categories:\n",
    "- Cat \n",
    "- Dog\n",
    "- Flower\n",
    "- House \n",
    "- Sun\n",
    "\n",
    "Remember to set the *PATH_TO_DATA* parameter"
   ]
  },
  {
   "cell_type": "code",
   "execution_count": 1,
   "id": "unknown-constitutional",
   "metadata": {},
   "outputs": [],
   "source": [
    "import load_sketches as ld\n",
    "import matplotlib.pyplot as plt\n",
    "import numpy as np\n",
    "\n",
    "import tensorflow as tf\n",
    "import tensorflow.keras\n",
    "from tensorflow.keras.models import Sequential\n",
    "from tensorflow.keras.layers import Dense, Flatten, Conv2D, MaxPooling2D, Dropout\n",
    "from tensorflow.keras.optimizers import SGD\n",
    "from tensorflow.keras.callbacks import ModelCheckpoint, EarlyStopping\n",
    "\n",
    "\n",
    "PATH_TO_DATA = \"sketches/\""
   ]
  },
  {
   "cell_type": "markdown",
   "id": "baking-milton",
   "metadata": {},
   "source": [
    "## Load dataset\n",
    "Loading dataset from local folder. The *load_sketches* returns shuffled data with labels, splitted for training and test. Then reshaping from 784 to 28x28."
   ]
  },
  {
   "cell_type": "code",
   "execution_count": 2,
   "id": "shared-knife",
   "metadata": {},
   "outputs": [],
   "source": [
    "train_set, test_set, train_labels, test_labels, label_strings = ld.load_sketches(0.7,PATH_TO_DATA)\n",
    "train_set = np.reshape(train_set, (train_set.shape[0], 28, 28, 1))"
   ]
  },
  {
   "cell_type": "code",
   "execution_count": 3,
   "id": "pending-guess",
   "metadata": {},
   "outputs": [
    {
     "name": "stdout",
     "output_type": "stream",
     "text": [
      "A sketch could look like this:\n"
     ]
    },
    {
     "data": {
      "image/png": "[encoded data removed]",
      "text/plain": [
       "<Figure size 432x288 with 1 Axes>"
      ]
     },
     "metadata": {
      "needs_background": "light"
     },
     "output_type": "display_data"
    }
   ],
   "source": [
    "print(\"A sketch could look like this:\")\n",
    "pic = np.reshape(train_set[0], (28,28))\n",
    "\n",
    "plt.imshow(pic, cmap=\"gray\")\n",
    "plt.show()"
   ]
  },
  {
   "cell_type": "code",
   "execution_count": 4,
   "id": "mounted-luxembourg",
   "metadata": {},
   "outputs": [
    {
     "data": {
      "image/png": "[encoded data removed]",
      "text/plain": [
       "<Figure size 432x288 with 1 Axes>"
      ]
     },
     "metadata": {
      "needs_background": "light"
     },
     "output_type": "display_data"
    }
   ],
   "source": [
    "freq = [0 for i in range(5)]\n",
    "for i in range(len(train_labels)):\n",
    "    freq[train_labels[i]] += 1\n",
    "\n",
    "f, ax = plt.subplots()\n",
    "plt.bar(range(5), freq)\n",
    "plt.title(\"Train data distribution\")\n",
    "plt.xlabel(\"Labels\")\n",
    "plt.ylabel(\"Frequency\")\n",
    "ax.set_xticks(range(5))\n",
    "ax.set_xticklabels(label_strings)\n",
    "plt.show()\n"
   ]
  },
  {
   "cell_type": "markdown",
   "id": "joint-portland",
   "metadata": {},
   "source": [
    "## Set up model\n",
    "This is the best model so far."
   ]
  },
  {
   "cell_type": "code",
   "execution_count": 5,
   "id": "diagnostic-advancement",
   "metadata": {},
   "outputs": [],
   "source": [
    "# Model definition\n",
    "model = Sequential()\n",
    "model.add(Conv2D(20, kernel_size=(5, 5), strides=(1, 1), activation='relu', input_shape=(28, 28, 1)))\n",
    "model.add(MaxPooling2D(pool_size=(2, 2), strides=(2, 2)))\n",
    "model.add(Conv2D(32, kernel_size=(5, 5), activation='relu'))\n",
    "model.add(MaxPooling2D(pool_size=(2, 2)))\n",
    "model.add(Flatten())\n",
    "model.add(Dense(700, activation='relu'))\n",
    "model.add(Dense(5, activation='softmax'))"
   ]
  },
  {
   "cell_type": "code",
   "execution_count": 6,
   "id": "seasonal-audit",
   "metadata": {},
   "outputs": [],
   "source": [
    "model.compile(optimizer=SGD(lr=0.001, momentum=0.8, decay=1e-6), loss='sparse_categorical_crossentropy', metrics=['accuracy'])"
   ]
  },
  {
   "cell_type": "markdown",
   "id": "polar-translator",
   "metadata": {},
   "source": [
    "## Train model"
   ]
  },
  {
   "cell_type": "code",
   "execution_count": 7,
   "id": "regular-silver",
   "metadata": {},
   "outputs": [],
   "source": [
    "early_stop = EarlyStopping(monitor=\"val_loss\",\n",
    "                           min_delta=0,\n",
    "                           patience=2,\n",
    "                           verbose=0,\n",
    "                           mode=\"auto\",\n",
    "                           baseline=None,\n",
    "                           restore_best_weights=True)"
   ]
  },
  {
   "cell_type": "code",
   "execution_count": 8,
   "id": "sticky-governor",
   "metadata": {},
   "outputs": [
    {
     "name": "stdout",
     "output_type": "stream",
     "text": [
      "1689/1689 [==============================] - 115s 68ms/step - loss: 0.6945 - accuracy: 0.7777 - val_loss: 0.4053 - val_accuracy: 0.8555\n",
      "Model: \"sequential\"\n",
      "_________________________________________________________________\n",
      "Layer (type)                 Output Shape              Param #   \n",
      "=================================================================\n",
      "conv2d (Conv2D)              (None, 24, 24, 20)        520       \n",
      "_________________________________________________________________\n",
      "max_pooling2d (MaxPooling2D) (None, 12, 12, 20)        0         \n",
      "_________________________________________________________________\n",
      "conv2d_1 (Conv2D)            (None, 8, 8, 32)          16032     \n",
      "_________________________________________________________________\n",
      "max_pooling2d_1 (MaxPooling2 (None, 4, 4, 32)          0         \n",
      "_________________________________________________________________\n",
      "flatten (Flatten)            (None, 512)               0         \n",
      "_________________________________________________________________\n",
      "dense (Dense)                (None, 700)               359100    \n",
      "_________________________________________________________________\n",
      "dense_1 (Dense)              (None, 5)                 3505      \n",
      "=================================================================\n",
      "Total params: 379,157\n",
      "Trainable params: 379,157\n",
      "Non-trainable params: 0\n",
      "_________________________________________________________________\n"
     ]
    }
   ],
   "source": [
    "# Trains the model and saves the history of the training\n",
    "BATCHES = 200\n",
    "EPOCHS = 9\n",
    "history = model.fit(train_set, train_labels, batch_size=BATCHES, epochs=EPOCHS, validation_split=0.3, callbacks=[early_stop])\n",
    "\n",
    "model.summary()"
   ]
  },
  {
   "cell_type": "markdown",
   "id": "affecting-rugby",
   "metadata": {},
   "source": [
    "## Save model"
   ]
  },
  {
   "cell_type": "code",
   "execution_count": 11,
   "id": "loaded-liabilities",
   "metadata": {},
   "outputs": [
    {
     "name": "stdout",
     "output_type": "stream",
     "text": [
      "WARNING:tensorflow:From C:\\Users\\jon18\\anaconda3\\envs\\sketchenv\\lib\\site-packages\\tensorflow\\python\\training\\tracking\\tracking.py:111: Model.state_updates (from tensorflow.python.keras.engine.training) is deprecated and will be removed in a future version.\n",
      "Instructions for updating:\n",
      "This property should not be used in TensorFlow 2.0, as updates are applied automatically.\n",
      "WARNING:tensorflow:From C:\\Users\\jon18\\anaconda3\\envs\\sketchenv\\lib\\site-packages\\tensorflow\\python\\training\\tracking\\tracking.py:111: Layer.updates (from tensorflow.python.keras.engine.base_layer) is deprecated and will be removed in a future version.\n",
      "Instructions for updating:\n",
      "This property should not be used in TensorFlow 2.0, as updates are applied automatically.\n",
      "INFO:tensorflow:Assets written to: ./assets\n"
     ]
    }
   ],
   "source": [
    "model.save(\"./\")"
   ]
  },
  {
   "cell_type": "code",
   "execution_count": null,
   "id": "adjacent-release",
   "metadata": {},
   "outputs": [],
   "source": []
  }
 ],
 "metadata": {
  "kernelspec": {
   "display_name": "Python 3",
   "language": "python",
   "name": "python3"
  },
  "language_info": {
   "codemirror_mode": {
    "name": "ipython",
    "version": 3
   },
   "file_extension": ".py",
   "mimetype": "text/x-python",
   "name": "python",
   "nbconvert_exporter": "python",
   "pygments_lexer": "ipython3",
   "version": "3.8.5"
  }
 },
 "nbformat": 4,
 "nbformat_minor": 5
}
