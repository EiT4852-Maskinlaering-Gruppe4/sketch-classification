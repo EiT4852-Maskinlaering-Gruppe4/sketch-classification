{
 "cells": [
  {
   "cell_type": "markdown",
   "id": "declared-blocking",
   "metadata": {},
   "source": [
    "# Sketch Classification"
   ]
  },
  {
   "cell_type": "markdown",
   "id": "developing-suicide",
   "metadata": {},
   "source": [
    "The sketch data is fetched from \"Quick Draw!\", a project by Google. The dataset contain Numpy Bitmap files (.npy) and is downloaded from [Google Cloud Platform](https://console.cloud.google.com/storage/browser/quickdraw_dataset/full/numpy_bitmap). These sketches are already simplified (removed timestamp data, etc.) and scaled to 28x28 greyscale bitmap.\n",
    "\n",
    "In this notebook, the focus will be on five sketch categories:\n",
    "- Cat \n",
    "- Dog\n",
    "- Flower\n",
    "- House \n",
    "- Sun"
   ]
  },
  {
   "cell_type": "markdown",
   "id": "baking-milton",
   "metadata": {},
   "source": [
    "## Load dataset\n",
    "Loading dataset from local folder. The *load_sketches* returns shuffled data with labels, splitted for training and test."
   ]
  },
  {
   "cell_type": "code",
   "execution_count": 2,
   "id": "unknown-constitutional",
   "metadata": {},
   "outputs": [],
   "source": [
    "import load_sketches as ld"
   ]
  },
  {
   "cell_type": "code",
   "execution_count": 3,
   "id": "shared-knife",
   "metadata": {},
   "outputs": [],
   "source": [
    "train_set, test_set, train_labels, test_labels, label_strings = ld.load_sketches(0.9,\"sketches/\")"
   ]
  },
  {
   "cell_type": "code",
   "execution_count": 4,
   "id": "pending-guess",
   "metadata": {},
   "outputs": [
    {
     "name": "stdout",
     "output_type": "stream",
     "text": [
      "A sketch could look like this:\n"
     ]
    },
    {
     "data": {
      "image/png": "[encoded data removed]",
      "text/plain": [
       "<Figure size 432x288 with 1 Axes>"
      ]
     },
     "metadata": {
      "needs_background": "light"
     },
     "output_type": "display_data"
    }
   ],
   "source": [
    "import matplotlib.pyplot as plt\n",
    "import numpy as np\n",
    "print(\"A sketch could look like this:\")\n",
    "pic = np.reshape(train_set[0], (28,28))\n",
    "\n",
    "plt.imshow(pic, cmap=\"gray\")\n",
    "plt.show()"
   ]
  },
  {
   "cell_type": "code",
   "execution_count": 5,
   "id": "mounted-luxembourg",
   "metadata": {},
   "outputs": [
    {
     "data": {
      "image/png": "[encoded data removed]",
      "text/plain": [
       "<Figure size 432x288 with 1 Axes>"
      ]
     },
     "metadata": {
      "needs_background": "light"
     },
     "output_type": "display_data"
    }
   ],
   "source": [
    "\n",
    "freq = [0 for i in range(5)]\n",
    "for i in range(len(train_labels)):\n",
    "    freq[train_labels[i]] += 1\n",
    "\n",
    "f, ax = plt.subplots()\n",
    "plt.bar(range(5), freq)\n",
    "plt.title(\"Train data distribution\")\n",
    "plt.xlabel(\"Categories\")\n",
    "plt.ylabel(\"Frequency\")\n",
    "ax.set_xticks(range(5))\n",
    "ax.set_xticklabels(label_strings)\n",
    "plt.show()\n"
   ]
  },
  {
   "cell_type": "markdown",
   "id": "joint-portland",
   "metadata": {},
   "source": [
    "## Set up model"
   ]
  },
  {
   "cell_type": "code",
   "execution_count": 16,
   "id": "diagnostic-advancement",
   "metadata": {},
   "outputs": [],
   "source": [
    "from keras.models import Sequential\n",
    "from keras.layers import Dense, Flatten, Conv2D, MaxPooling2D, Dropout"
   ]
  },
  {
   "cell_type": "code",
   "execution_count": 17,
   "id": "centered-seminar",
   "metadata": {},
   "outputs": [],
   "source": [
    "model = Sequential()\n",
    "#model.add\n",
    "#model.add"
   ]
  },
  {
   "cell_type": "code",
   "execution_count": 18,
   "id": "seasonal-audit",
   "metadata": {},
   "outputs": [],
   "source": [
    "#model.compile()"
   ]
  },
  {
   "cell_type": "markdown",
   "id": "polar-translator",
   "metadata": {},
   "source": [
    "## Train model"
   ]
  },
  {
   "cell_type": "code",
   "execution_count": 19,
   "id": "regular-silver",
   "metadata": {},
   "outputs": [],
   "source": [
    "#model.fit()"
   ]
  },
  {
   "cell_type": "code",
   "execution_count": null,
   "id": "sticky-governor",
   "metadata": {},
   "outputs": [],
   "source": []
  }
 ],
 "metadata": {
  "kernelspec": {
   "display_name": "Python 3",
   "language": "python",
   "name": "python3"
  },
  "language_info": {
   "codemirror_mode": {
    "name": "ipython",
    "version": 3
   },
   "file_extension": ".py",
   "mimetype": "text/x-python",
   "name": "python",
   "nbconvert_exporter": "python",
   "pygments_lexer": "ipython3",
   "version": "3.8.5"
  }
 },
 "nbformat": 4,
 "nbformat_minor": 5
}
