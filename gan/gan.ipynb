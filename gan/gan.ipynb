{
 "metadata": {
  "language_info": {
   "codemirror_mode": {
    "name": "ipython",
    "version": 3
   },
   "file_extension": ".py",
   "mimetype": "text/x-python",
   "name": "python",
   "nbconvert_exporter": "python",
   "pygments_lexer": "ipython3",
   "version": "3.8.8-final"
  },
  "orig_nbformat": 2,
  "kernelspec": {
   "name": "python3",
   "display_name": "Python 3.8.8 64-bit ('tf-gpu': conda)",
   "metadata": {
    "interpreter": {
     "hash": "130def14a29d72c6fcfc9c5b6f82fc25b57ecb44f5cfe5fbd19221bad4b59cc3"
    }
   }
  }
 },
 "nbformat": 4,
 "nbformat_minor": 2,
 "cells": [
  {
   "source": [
    "# Image generator"
   ],
   "cell_type": "markdown",
   "metadata": {}
  },
  {
   "cell_type": "code",
   "execution_count": null,
   "metadata": {},
   "outputs": [],
   "source": [
    "from tensorflow.keras.layers import Input\n",
    "from tensorflow.keras.models import Model\n",
    "from tensorflow.keras.optimizers import Adam\n",
    "\n",
    "import numpy as np\n",
    "import matplotlib.pyplot as plt\n",
    "import time\n",
    "\n",
    "from export_images import import_images\n",
    "from build_model import build_generator, build_discriminator, train\n",
    "\n",
    "import os\n",
    "os.environ['TF_CPP_MIN_LOG_LEVEL'] = '3'"
   ]
  },
  {
   "cell_type": "code",
   "execution_count": null,
   "metadata": {},
   "outputs": [],
   "source": [
    "IMG_ROWS = 100\n",
    "IMG_COLS = 100\n",
    "CHANNELS = 3\n",
    "IMG_SHAPE = (IMG_ROWS, IMG_COLS, CHANNELS)\n",
    "\n",
    "MODELNAME = 'jon/b128-e50'\n",
    "BATCH_SIZE = 256\n",
    "EPOCHS = 100\n",
    "\n",
    "CATEGORY = \"Dog\"\n",
    "PATH_TO_IMAGES = f\"{os.getcwd()}/Images/{CATEGORY}\""
   ]
  },
  {
   "source": [
    "## Setup Generator model and Discriminator model"
   ],
   "cell_type": "markdown",
   "metadata": {}
  },
  {
   "cell_type": "code",
   "execution_count": null,
   "metadata": {},
   "outputs": [],
   "source": [
    "optimizer = Adam(0.0002, 0.5) # Learning rate, momentum\n",
    "\n",
    "\n",
    "discriminator = build_discriminator(IMG_SHAPE)\n",
    "discriminator.compile(loss='binary_crossentropy', optimizer=optimizer, metrics=['accuracy'])\n",
    "\n",
    "generator = build_generator(IMG_SHAPE)\n",
    "generator.compile(loss='binary_crossentropy', optimizer=optimizer)"
   ]
  },
  {
   "source": [
    "## Setup Combined model"
   ],
   "cell_type": "markdown",
   "metadata": {}
  },
  {
   "cell_type": "code",
   "execution_count": null,
   "metadata": {},
   "outputs": [],
   "source": [
    "# Input shape\n",
    "z = Input(shape=(100,))\n",
    "img = generator(z)\n",
    "\n",
    "# In the combined model, only the generator will be trained\n",
    "discriminator.trainable = False \n",
    "\n",
    "valid = discriminator(img)\n",
    "\n",
    "\n",
    "# The combined model\n",
    "combined_model = Model(z, valid)\n",
    "combined_model.compile(loss='binary_crossentropy', optimizer=optimizer)"
   ]
  },
  {
   "cell_type": "code",
   "execution_count": null,
   "metadata": {},
   "outputs": [],
   "source": [
    "# Import images, convert to float [0 1]\n",
    "image_data = import_images(PATH_TO_IMAGES, (IMG_ROWS,IMG_COLS), n_images=5000) / 255\n",
    "image_data = image_data[:,:,:,::-1] # BRG -> RGB"
   ]
  },
  {
   "cell_type": "code",
   "execution_count": null,
   "metadata": {},
   "outputs": [],
   "source": [
    "train(EPOCHS, BATCH_SIZE, generator, discriminator, combined_model, image_data)"
   ]
  },
  {
   "cell_type": "code",
   "execution_count": null,
   "metadata": {},
   "outputs": [],
   "source": [
    "# Generate image from model\n",
    "noise = np.random.normal(0,1,(1,100))\n",
    "gen_image = generator.predict(noise)\n",
    "\n",
    "gen_image += 1\n",
    "gen_image /= 2\n",
    "\n",
    "#print(\"image: \", gen_image[0])\n",
    "plt.imshow(gen_image[0])\n",
    "plt.show()"
   ]
  },
  {
   "cell_type": "code",
   "execution_count": null,
   "metadata": {},
   "outputs": [],
   "source": [
    "# Save the generator, discard the dicriminator\n",
    "generator.save('./models/' + MODELNAME)"
   ]
  }
 ]
}