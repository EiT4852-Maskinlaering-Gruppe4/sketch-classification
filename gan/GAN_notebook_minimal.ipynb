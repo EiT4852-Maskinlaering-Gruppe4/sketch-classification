{
  "nbformat": 4,
  "nbformat_minor": 0,
  "metadata": {
    "colab": {
      "name": "GAN_notebook_minimal.ipynb",
      "provenance": [],
      "collapsed_sections": []
    },
    "kernelspec": {
      "name": "python3",
      "display_name": "Python 3"
    },
    "language_info": {
      "name": "python"
    },
    "accelerator": "GPU"
  },
  "cells": [
    {
      "cell_type": "markdown",
      "metadata": {
        "id": "Fmw6wIZ2hFO6"
      },
      "source": [
        "Parts of this notebook adapted from https://www.tensorflow.org/tutorials/generative/dcgan."
      ]
    },
    {
      "cell_type": "code",
      "metadata": {
        "id": "drzPpP0ihFJG"
      },
      "source": [
        ""
      ],
      "execution_count": null,
      "outputs": []
    },
    {
      "cell_type": "markdown",
      "metadata": {
        "id": "-2WdVJgT6IsB"
      },
      "source": [
        "### Setup.\n"
      ]
    },
    {
      "cell_type": "markdown",
      "metadata": {
        "id": "dEzifo4eS7c7"
      },
      "source": [
        "Import libraries."
      ]
    },
    {
      "cell_type": "code",
      "metadata": {
        "id": "xkYDAx2z1Zgy"
      },
      "source": [
        "from google.colab import drive\n",
        "from pathlib import Path\n",
        "\n",
        "import sys\n",
        "import glob\n",
        "import numpy as np\n",
        "import cv2\n",
        "import matplotlib.pyplot as plt\n",
        "import time\n",
        "import imageio\n",
        "import os\n",
        "import PIL\n",
        "from IPython import display\n",
        "\n",
        "import tensorflow as tf\n",
        "import tensorflow.keras\n",
        "from tensorflow.keras import layers\n",
        "\n",
        "from tensorflow.keras.layers import Input, Dense, Reshape, Flatten, \\\n",
        "                                    LeakyReLU, BatchNormalization,\\\n",
        "                                    Activation, UpSampling2D, \\\n",
        "                                    Conv2DTranspose, Dropout,\\\n",
        "                                    Conv2D, ReLU\n",
        "from tensorflow.keras.models import Sequential, Model\n",
        "from tensorflow.keras.optimizers import Adam\n",
        "from tensorflow.keras.utils import plot_model\n",
        "\n",
        "from keras.datasets import mnist"
      ],
      "execution_count": null,
      "outputs": []
    },
    {
      "cell_type": "markdown",
      "metadata": {
        "id": "SBOowgvL638z"
      },
      "source": [
        "Define constants."
      ]
    },
    {
      "cell_type": "code",
      "metadata": {
        "id": "obx_bOvw63G-"
      },
      "source": [
        "NOISE_DIM = 128\n",
        "IMG_ROWS = 56\n",
        "IMG_COLS = 56\n",
        "COLORS = True\n",
        "\n",
        "if COLORS:\n",
        "  CHANNELS = 3\n",
        "else:\n",
        "  CHANNELS = 1\n",
        "\n",
        "IMG_SHAPE = (IMG_ROWS, IMG_COLS, CHANNELS)\n",
        "BUFFER_SIZE = 5000\n",
        "BATCH_SIZE = 64\n",
        "MODEL_NAME = \"flowers_gan_5\"\n"
      ],
      "execution_count": null,
      "outputs": []
    },
    {
      "cell_type": "markdown",
      "metadata": {
        "id": "M9FcpI6q6Oi9"
      },
      "source": [
        "Get filenames of training set."
      ]
    },
    {
      "cell_type": "code",
      "metadata": {
        "colab": {
          "base_uri": "https://localhost:8080/"
        },
        "id": "_fREbqvg6SGP",
        "outputId": "0ec2c3b7-52f8-4e09-b2bb-721338b27658"
      },
      "source": [
        "drive.mount(\"/content/drive\", force_remount=True)\n",
        "base = Path('/content/drive/My Drive/')"
      ],
      "execution_count": null,
      "outputs": [
        {
          "output_type": "stream",
          "text": [
            "Mounted at /content/drive\n"
          ],
          "name": "stdout"
        }
      ]
    },
    {
      "cell_type": "code",
      "metadata": {
        "id": "v5vhLtTnPCGp"
      },
      "source": [
        "sys.path.append(str(base))\n",
        "zip_path = base/\"EiT_dataset/flowers.zip\"\n",
        "!cp \"{zip_path}\" .\n",
        "!unzip -q flowers.zip"
      ],
      "execution_count": null,
      "outputs": []
    },
    {
      "cell_type": "code",
      "metadata": {
        "id": "FOZDWp6DO34x"
      },
      "source": [
        "!mkdir drive/MyDrive/EiT/\"{MODEL_NAME}\""
      ],
      "execution_count": null,
      "outputs": []
    },
    {
      "cell_type": "code",
      "metadata": {
        "id": "Mj9YruUs6e5I"
      },
      "source": [
        "filenames = glob.glob(\"flowers/*.jpg\")"
      ],
      "execution_count": null,
      "outputs": []
    },
    {
      "cell_type": "markdown",
      "metadata": {
        "id": "NdtvJBNNSmWe"
      },
      "source": [
        "Read training images into numpy arrays."
      ]
    },
    {
      "cell_type": "code",
      "metadata": {
        "id": "Rv9vmxW26jbL"
      },
      "source": [
        "if COLORS:\n",
        "  train_images = np.array([cv2.resize(cv2.imread(img), (IMG_ROWS, IMG_COLS)) for img in filenames])\n",
        "  train_images = train_images[:,:,:,::-1] # BRG -> RGB\n",
        "else:\n",
        "  train_images = np.array([cv2.resize(cv2.imread(img, 0), (IMG_ROWS, IMG_COLS)) for img in filenames])\n",
        "  train_images = np.expand_dims(train_images, axis=3)"
      ],
      "execution_count": null,
      "outputs": []
    },
    {
      "cell_type": "markdown",
      "metadata": {
        "id": "KIqIBTDGSvSe"
      },
      "source": [
        "Standardize training images."
      ]
    },
    {
      "cell_type": "code",
      "metadata": {
        "id": "McFhH3M36p0n"
      },
      "source": [
        "train_images = (train_images - 127.5)/127.5"
      ],
      "execution_count": null,
      "outputs": []
    },
    {
      "cell_type": "markdown",
      "metadata": {
        "id": "8Bpyvh1LS1KX"
      },
      "source": [
        "Create Dataset object."
      ]
    },
    {
      "cell_type": "code",
      "metadata": {
        "id": "OVhpDpqP6_Jf"
      },
      "source": [
        "train_dataset = tf.data.Dataset.from_tensor_slices(train_images).shuffle(BUFFER_SIZE).batch(BATCH_SIZE)"
      ],
      "execution_count": null,
      "outputs": []
    },
    {
      "cell_type": "markdown",
      "metadata": {
        "id": "tXAtrkS97GYZ"
      },
      "source": [
        "### Defining the models."
      ]
    },
    {
      "cell_type": "markdown",
      "metadata": {
        "id": "FXXAnwz5TGNp"
      },
      "source": [
        "Defining generator architecture."
      ]
    },
    {
      "cell_type": "code",
      "metadata": {
        "id": "2Y3vTLXQ7GKj"
      },
      "source": [
        "def build_generator(img_shape):\n",
        "\n",
        "    model = Sequential()\n",
        "\n",
        "    model.add(Dense(7*7*256, input_dim=NOISE_DIM, use_bias=False))\n",
        "    model.add(BatchNormalization(momentum=0.8))\n",
        "    model.add(ReLU())\n",
        "\n",
        "    model.add(Reshape((7,7,256)))\n",
        " \n",
        "    model.add(UpSampling2D())\n",
        "    model.add(Conv2D(filters=256, kernel_size=(5,5), strides=(1,1), padding=\"same\"))\n",
        "    model.add(BatchNormalization(momentum=0.8))\n",
        "    model.add(ReLU())\n",
        "    \n",
        "    model.add(UpSampling2D())\n",
        "    model.add(Conv2D(filters=128, kernel_size=(5,5), strides=(1,1), padding=\"same\"))\n",
        "    model.add(BatchNormalization(momentum=0.8))\n",
        "    model.add(ReLU())\n",
        "    \n",
        "    model.add(UpSampling2D())\n",
        "    model.add(Conv2D(filters=img_shape[2], kernel_size=(5,5), strides=(1,1), padding=\"same\", activation=\"tanh\"))\n",
        "    return model"
      ],
      "execution_count": null,
      "outputs": []
    },
    {
      "cell_type": "code",
      "metadata": {
        "id": "CG_UTxb47MYR"
      },
      "source": [
        "def build_discriminator(img_shape):\n",
        "    model = Sequential()\n",
        "    \n",
        "    model.add(Conv2D(filters=128,\n",
        "                     kernel_size=(5,5),\n",
        "                     strides=(1,1),\n",
        "                     padding=\"same\",\n",
        "                     input_shape=img_shape))\n",
        "    model.add(BatchNormalization(momentum=0.8))\n",
        "    model.add(LeakyReLU(alpha=0.2))\n",
        "    model.add(Dropout(0.2))\n",
        "    \n",
        "    model.add(Conv2D(filters=64, \n",
        "                     kernel_size=(5,5),\n",
        "                     strides=(2,2),\n",
        "                     padding=\"same\"))\n",
        "    model.add(BatchNormalization(momentum=0.8))\n",
        "    model.add(LeakyReLU(alpha=0.2))\n",
        "    model.add(Dropout(0.2))\n",
        "    \n",
        "    model.add(Conv2D(filters=64,\n",
        "                     kernel_size=(3,3),\n",
        "                     strides=(2,2),\n",
        "                     padding=\"same\"))\n",
        "    model.add(LeakyReLU(alpha=0.2))\n",
        "    model.add(Dropout(0.2))\n",
        "\n",
        "    model.add(Flatten())\n",
        "    model.add(Dense(units=1,\n",
        "                    activation=\"sigmoid\"))\n",
        "    return model"
      ],
      "execution_count": null,
      "outputs": []
    },
    {
      "cell_type": "markdown",
      "metadata": {
        "id": "gTmRlmSU7Shu"
      },
      "source": [
        "Create instances of each model.\n"
      ]
    },
    {
      "cell_type": "code",
      "metadata": {
        "id": "qYLID4GH7T1T"
      },
      "source": [
        "generator = build_generator(IMG_SHAPE)\n",
        "discriminator = build_discriminator(IMG_SHAPE)"
      ],
      "execution_count": null,
      "outputs": []
    },
    {
      "cell_type": "markdown",
      "metadata": {
        "id": "nOwPfp_x7aXL"
      },
      "source": [
        "Defining loss functions and optimizers."
      ]
    },
    {
      "cell_type": "code",
      "metadata": {
        "id": "eoDL5Kzb7drQ"
      },
      "source": [
        "cross_entropy = tf.keras.losses.BinaryCrossentropy(from_logits=True)"
      ],
      "execution_count": null,
      "outputs": []
    },
    {
      "cell_type": "code",
      "metadata": {
        "id": "1yfe8gnQ7hZv"
      },
      "source": [
        "def discriminator_loss(real_output, fake_output):\n",
        "    real_loss = cross_entropy(tf.ones_like(real_output), real_output)\n",
        "    fake_loss = cross_entropy(tf.zeros_like(fake_output), fake_output)\n",
        "    total_loss = real_loss + fake_loss\n",
        "    return total_loss\n",
        "    \n",
        "def generator_loss(fake_output):\n",
        "    return cross_entropy(tf.ones_like(fake_output), fake_output)"
      ],
      "execution_count": null,
      "outputs": []
    },
    {
      "cell_type": "code",
      "metadata": {
        "id": "pV2mWu_O7li9"
      },
      "source": [
        "generator_optimizer = tf.keras.optimizers.Adam(1e-4)\n",
        "discriminator_optimizer = tf.keras.optimizers.Adam(1e-4)"
      ],
      "execution_count": null,
      "outputs": []
    },
    {
      "cell_type": "markdown",
      "metadata": {
        "id": "U-Ixzhku7rKz"
      },
      "source": [
        "### Defining training."
      ]
    },
    {
      "cell_type": "code",
      "metadata": {
        "id": "I7gAmS6y7q34"
      },
      "source": [
        "EPOCHS = 50"
      ],
      "execution_count": null,
      "outputs": []
    },
    {
      "cell_type": "code",
      "metadata": {
        "id": "_SivbZUZ7578"
      },
      "source": [
        "@tf.function\n",
        "def train_step(images):\n",
        "    noise = tf.random.normal([BATCH_SIZE, NOISE_DIM])\n",
        "\n",
        "    with tf.GradientTape() as gen_tape, tf.GradientTape() as disc_tape:\n",
        "      generated_images = generator(noise, training=True)\n",
        "\n",
        "      real_output = discriminator(images, training=True)\n",
        "      fake_output = discriminator(generated_images, training=True)\n",
        "\n",
        "      gen_loss = generator_loss(fake_output)\n",
        "      disc_loss = discriminator_loss(real_output, fake_output)\n",
        "\n",
        "    gradients_of_generator = gen_tape.gradient(gen_loss, generator.trainable_variables)\n",
        "    gradients_of_discriminator = disc_tape.gradient(disc_loss, discriminator.trainable_variables)\n",
        "\n",
        "    generator_optimizer.apply_gradients(zip(gradients_of_generator, generator.trainable_variables))\n",
        "    discriminator_optimizer.apply_gradients(zip(gradients_of_discriminator, discriminator.trainable_variables))\n",
        "\n",
        "    return gen_loss, disc_loss"
      ],
      "execution_count": null,
      "outputs": []
    },
    {
      "cell_type": "code",
      "metadata": {
        "id": "seYIFf3377rB"
      },
      "source": [
        "def train(dataset, epochs):\n",
        "  batches_per_epoch = len(dataset)\n",
        "\n",
        "  generator_losses = np.empty(shape=batches_per_epoch*epochs) # Length: total number of batches.\n",
        "  discriminator_losses = np.empty(shape=batches_per_epoch*epochs)\n",
        "\n",
        "  for epoch in range(epochs):\n",
        "    start = time.time()\n",
        "    \n",
        "    batch_counter = 0\n",
        "\n",
        "    for image_batch in dataset:\n",
        "\n",
        "      gen_loss, disc_loss = train_step(image_batch)\n",
        "\n",
        "      generator_losses[epoch*batches_per_epoch + batch_counter] = gen_loss\n",
        "      discriminator_losses[epoch*batches_per_epoch + batch_counter] = disc_loss\n",
        "      \n",
        "      batch_counter += 1\n",
        "\n",
        "\n",
        "    print ('Epoch {} took {} seconds.'.format(epoch + 1, time.time()-start))\n",
        "\n",
        "  return generator_losses, discriminator_losses"
      ],
      "execution_count": null,
      "outputs": []
    },
    {
      "cell_type": "markdown",
      "metadata": {
        "id": "0c16TGbY8Azl"
      },
      "source": [
        "### Train the models.\n"
      ]
    },
    {
      "cell_type": "code",
      "metadata": {
        "colab": {
          "base_uri": "https://localhost:8080/",
          "height": 164
        },
        "id": "yu9Aj_ff8B7K",
        "outputId": "eb31bfad-221b-4804-8c15-158d689e4517"
      },
      "source": [
        "generator_losses, discriminator_losses = train(train_dataset, EPOCHS)"
      ],
      "execution_count": 1,
      "outputs": [
        {
          "output_type": "error",
          "ename": "NameError",
          "evalue": "ignored",
          "traceback": [
            "\u001b[0;31m---------------------------------------------------------------------------\u001b[0m",
            "\u001b[0;31mNameError\u001b[0m                                 Traceback (most recent call last)",
            "\u001b[0;32m<ipython-input-1-005e09cef778>\u001b[0m in \u001b[0;36m<module>\u001b[0;34m()\u001b[0m\n\u001b[0;32m----> 1\u001b[0;31m \u001b[0mgenerator_losses\u001b[0m\u001b[0;34m,\u001b[0m \u001b[0mdiscriminator_losses\u001b[0m \u001b[0;34m=\u001b[0m \u001b[0mtrain\u001b[0m\u001b[0;34m(\u001b[0m\u001b[0mtrain_dataset\u001b[0m\u001b[0;34m,\u001b[0m \u001b[0mEPOCHS\u001b[0m\u001b[0;34m)\u001b[0m\u001b[0;34m\u001b[0m\u001b[0;34m\u001b[0m\u001b[0m\n\u001b[0m",
            "\u001b[0;31mNameError\u001b[0m: name 'train' is not defined"
          ]
        }
      ]
    },
    {
      "cell_type": "markdown",
      "metadata": {
        "id": "OMCJJIE8Wfx3"
      },
      "source": [
        "Plot losses for each batch."
      ]
    },
    {
      "cell_type": "code",
      "metadata": {
        "colab": {
          "base_uri": "https://localhost:8080/",
          "height": 282
        },
        "id": "m0FgJVyOVwTu",
        "outputId": "7c88fe4e-a52e-4519-fb78-63c08ce88384"
      },
      "source": [
        "plt.plot(generator_losses)\n",
        "plt.plot(discriminator_losses)"
      ],
      "execution_count": null,
      "outputs": [
        {
          "output_type": "execute_result",
          "data": {
            "text/plain": [
              "[<matplotlib.lines.Line2D at 0x7f5d56412a90>]"
            ]
          },
          "metadata": {
            "tags": []
          },
          "execution_count": 27
        },
        {
          "output_type": "display_data",
          "data": {
            "image/png": "[encoded data removed]",
            "text/plain": [
              "<Figure size 432x288 with 1 Axes>"
            ]
          },
          "metadata": {
            "tags": [],
            "needs_background": "light"
          }
        }
      ]
    },
    {
      "cell_type": "markdown",
      "metadata": {
        "id": "XDikoxj-Wh9p"
      },
      "source": [
        "Show a generated test image."
      ]
    },
    {
      "cell_type": "code",
      "metadata": {
        "id": "2Vr9RhxzXq8t"
      },
      "source": [
        "test_noise = tf.random.normal(0, 1, [1, NOISE_DIM])\n",
        "img = generator.predict(test_noise)\n",
        "plt.imshow(tf.cast(img[0, :, :, :] * 127.5 + 127.5, tf.int32))"
      ],
      "execution_count": null,
      "outputs": []
    }
  ]
}